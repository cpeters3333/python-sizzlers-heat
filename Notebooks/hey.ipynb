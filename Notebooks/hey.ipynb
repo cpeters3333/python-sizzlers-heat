{
  "nbformat": 4,
  "nbformat_minor": 0,
  "metadata": {
    "colab": {
      "provenance": []
    },
    "kernelspec": {
      "name": "python3",
      "display_name": "Python 3"
    },
    "language_info": {
      "name": "python"
    }
  },
  "cells": [
    {
      "cell_type": "code",
      "execution_count": 1,
      "metadata": {
        "colab": {
          "base_uri": "https://localhost:8080/"
        },
        "id": "ZmPjOoMJJJLH",
        "outputId": "f44424fe-7964-4e36-ff2c-4c7acb4780a5"
      },
      "outputs": [
        {
          "output_type": "stream",
          "name": "stdout",
          "text": [
            "heyyy\n"
          ]
        }
      ],
      "source": [
        "print('heyyy')"
      ]
    },
    {
      "cell_type": "code",
      "source": [],
      "metadata": {
        "id": "DysJabwRJMbd"
      },
      "execution_count": null,
      "outputs": []
    }
  ]
}